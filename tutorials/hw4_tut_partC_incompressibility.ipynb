{
 "cells": [
  {
   "cell_type": "markdown",
   "metadata": {},
   "source": [
    "**Assignment4, PartC:** Demonstrate an example where fenicsx fails.\n",
    "\n",
    "A 2D rectangular beam is fixed at one end and a distributed force is applied to that beam. .\n",
    "\n",
    "Problem: I used the 2D linear elasticity problem. The parameters are taken from [here](https://comet-fenics.readthedocs.io/en/latest/demo/elasticity/2D_elasticity.py.html). The following tutorial is taken from [this link](https://bleyerj.github.io/comet-fenicsx/intro/linear_elasticity/linear_elasticity.html). ChatGPT was used in commenting, getting the correct notations and writing fucntions."
   ]
  },
  {
   "cell_type": "markdown",
   "metadata": {},
   "source": [
    "**Importing modules**"
   ]
  },
  {
   "cell_type": "code",
   "execution_count": 1,
   "metadata": {},
   "outputs": [],
   "source": [
    "import numpy as np                              # Numerical operations\n",
    "import matplotlib.pyplot as plt                  # Plotting library\n",
    "import logging                                   # For logging progress messages\n",
    "from ufl import sym, grad, Identity, tr, inner, Measure, TestFunction, TrialFunction  # UFL for FEM formulation\n",
    "from mpi4py import MPI                           # MPI for parallel computing\n",
    "from dolfinx import fem                          # DOLFINx FEM tools\n",
    "import dolfinx.fem.petsc                         # PETSc linear solver interface\n",
    "from dolfinx.mesh import create_rectangle, CellType  # Mesh generation tools"
   ]
  },
  {
   "cell_type": "markdown",
   "metadata": {},
   "source": [
    "**Defining Functions**"
   ]
  },
  {
   "cell_type": "code",
   "execution_count": 2,
   "metadata": {},
   "outputs": [],
   "source": [
    "# --- Setup Logging ---\n",
    "logging.basicConfig(level=logging.INFO, format='%(message)s')  # Configure logging format and level\n",
    "\n",
    "# --- Core Functions ---\n",
    "\n",
    "# Function to generate a rectangular mesh domain\n",
    "def generate_rectangle_domain(length, height, Nx, Ny, cell_type):\n",
    "    return create_rectangle(MPI.COMM_WORLD, [np.array([0, 0]), np.array([length, height])], [Nx, Ny], cell_type=cell_type)\n",
    "\n",
    "# Function to define function space and displacement function\n",
    "def set_function_space(domain, degree):\n",
    "    dim = domain.topology.dim                         # Get dimension of the domain (2D here)\n",
    "    shape = (dim,)                                    # Vector field shape (displacement vector)\n",
    "    V = fem.functionspace(domain, (\"P\", degree, shape))  # Define vector function space of degree 'degree'\n",
    "    u_sol = fem.Function(V, name=\"Displacement\")      # Initialize displacement function\n",
    "    return V, u_sol, dim\n",
    "\n",
    "# Function to define material properties (Lamé parameters)\n",
    "def define_material_properties(domain, E_value, nu_value):\n",
    "    E = fem.Constant(domain, E_value)                 # Young's modulus as constant\n",
    "    nu = fem.Constant(domain, nu_value)               # Poisson's ratio as constant\n",
    "    lmbda = E * nu / (1 + nu) / (1 - 2 * nu)          # First Lamé parameter\n",
    "    mu = E / 2 / (1 + nu)                             # Second Lamé parameter (shear modulus)\n",
    "    return E, nu, lmbda, mu\n",
    "\n",
    "# Define strain tensor (ε)\n",
    "def epsilon(v): \n",
    "    return sym(grad(v))                               # Symmetric gradient of displacement\n",
    "\n",
    "# Define stress tensor (σ) using Hooke's law for isotropic material\n",
    "def sigma(v, lmbda, mu, dim): \n",
    "    return lmbda * tr(epsilon(v)) * Identity(dim) + 2 * mu * epsilon(v)\n",
    "\n",
    "# Define weak form (variational problem)\n",
    "def define_variational_problem(V, domain, lmbda, mu, rho, g, dim):\n",
    "    u = TrialFunction(V)                              # Trial function (unknown displacement)\n",
    "    v = TestFunction(V)                               # Test function\n",
    "    f = fem.Constant(domain, np.array([0, -rho * g])) # Body force vector (gravity)\n",
    "    dx = Measure(\"dx\", domain=domain)                 # Integration measure\n",
    "    a = inner(sigma(u, lmbda, mu, dim), epsilon(v)) * dx  # Bilinear form\n",
    "    L = inner(f, v) * dx                              # Linear form\n",
    "    return a, L\n",
    "\n",
    "# Apply Dirichlet BC: Fix left edge (u = 0)\n",
    "def apply_boundary_conditions(V):\n",
    "    left = lambda x: np.isclose(x[0], 0.0)            # Define left boundary condition (x = 0)\n",
    "    left_dofs = fem.locate_dofs_geometrical(V, left)  # Locate degrees of freedom on left edge\n",
    "    return [fem.dirichletbc(np.zeros((2,)), left_dofs, V)]  # Apply zero displacement BC\n",
    "\n",
    "# Solve linear system\n",
    "def solve_problem(a, L, u_sol, bcs):\n",
    "    problem = fem.petsc.LinearProblem(a, L, u=u_sol, bcs=bcs, petsc_options={\"ksp_type\": \"preonly\", \"pc_type\": \"lu\"})  # Direct solver\n",
    "    return problem.solve()                             # Solve and return solution\n",
    "\n",
    "# Extract vertical displacement at the tip (right edge, mid-height)\n",
    "def extract_tip_displacement(V, uh, length, height):\n",
    "    V1, dof_map = V.sub(1).collapse()                  # Extract y-component function space\n",
    "    sub_tip = fem.locate_dofs_geometrical(V1, lambda x: np.isclose(x[0], length) & np.isclose(x[1], height/2))  # Locate tip DOF\n",
    "    global_tip = dof_map[sub_tip[0]]                   # Map to global DOF index\n",
    "    return uh.x.array[global_tip]                      # Return displacement value at tip\n",
    "\n",
    "# Theoritical deflection calculation\n",
    "def compute_theoretical_deflection(length, height, E, nu, rho, g):\n",
    "    f_vol = - rho * g                          # Body force per unit volume due to gravity\n",
    "    I = height**4 / 12                         # Second moment of area for a rectangular cross-section\n",
    "    delta_th = float(f_vol * length**4 / (8 * E * I))  # Theoretical tip deflection (without correction)\n",
    "    E_effective = E / (1 - nu ** 2)            # Effective Young's modulus for plane strain condition\n",
    "    delta_th_corrected = float(f_vol * length**4 / (8 * E_effective * I))  # Corrected theoretical deflection\n",
    "    return delta_th, delta_th_corrected        # Return both uncorrected and corrected deflections\n"
   ]
  },
  {
   "cell_type": "markdown",
   "metadata": {},
   "source": [
    "**Main Execution**"
   ]
  },
  {
   "cell_type": "code",
   "execution_count": 3,
   "metadata": {},
   "outputs": [
    {
     "name": "stderr",
     "output_type": "stream",
     "text": [
      "/projectnb/me700/students/sjazad/.conda/envs/hw4-env/lib/python3.13/site-packages/dolfinx/mesh.py:867: RuntimeWarning: mpi4py.MPI.Session size changed, may indicate binary incompatibility. Expected 32 from C header, got 40 from PyObject\n",
      "  msh = _cpp.mesh.create_rectangle_float64(comm, points, n, cell_type, partitioner, diagonal)\n",
      "\n",
      "/projectnb/me700/students/sjazad/.conda/envs/hw4-env/lib/python3.13/site-packages/dolfinx/fem/function.py:630: RuntimeWarning: mpi4py.MPI.Session size changed, may indicate binary incompatibility. Expected 32 from C header, got 40 from PyObject\n",
      "  cpp_dofmap = _cpp.fem.create_dofmap(mesh.comm, mesh.topology._cpp_object, cpp_element)\n",
      "\n",
      "/projectnb/me700/students/sjazad/.conda/envs/hw4-env/lib/python3.13/site-packages/dolfinx/la.py:367: RuntimeWarning: mpi4py.MPI.Session size changed, may indicate binary incompatibility. Expected 32 from C header, got 40 from PyObject\n",
      "  return PETSc.Vec().createGhost(ghosts, size=size, bsize=bs, comm=map.comm)  # type: ignore\n",
      "\n"
     ]
    },
    {
     "name": "stdout",
     "output_type": "stream",
     "text": [
      "Numerical tip displacement: nan\n",
      "Theoretical tip displacement: -1.149609e-01\n",
      "Theoretical tip displacement(corrected): -8.622070e-02\n",
      "Relative error:           nan%\n",
      "Relative error (corrected theory):           nan%\n"
     ]
    }
   ],
   "source": [
    "# --- Define Simulation Parameters ---\n",
    "length, height = 25.0, 1.0        # Beam dimensions\n",
    "Nx, Ny = 250, 10                  # Number of elements along length and height\n",
    "degree = 2                        # Polynomial degree of finite element basis functions\n",
    "cell_type = CellType.quadrilateral # Type of mesh cell (quadrilateral elements)\n",
    "E_value = 1e5                     # Young's modulus\n",
    "nu_value = 0.5           # Poisson's ratio\n",
    "rho = 2e-3                        # Material density\n",
    "g = 9.81                          # Gravitational acceleration\n",
    "\n",
    "# --- Generate Mesh Domain ---\n",
    "domain = generate_rectangle_domain(length, height, Nx, Ny, cell_type)\n",
    "\n",
    "# --- Define Function Space for Displacement Solution ---\n",
    "V, u_sol, dim = set_function_space(domain, degree)\n",
    "\n",
    "# --- Define Material Properties (including Lame parameters) ---\n",
    "E, nu, lmbda, mu = define_material_properties(domain, E_value, nu_value)\n",
    "\n",
    "# --- Define Variational Problem (weak form of PDE) ---\n",
    "a, L = define_variational_problem(V, domain, lmbda, mu, rho, g, dim)\n",
    "\n",
    "# --- Apply Boundary Conditions (e.g., fixing one side of the beam) ---\n",
    "bcs = apply_boundary_conditions(V)\n",
    "\n",
    "# --- Solve the Finite Element Problem ---\n",
    "uh = solve_problem(a, L, u_sol, bcs)\n",
    "\n",
    "# --- Extract Displacement at the Beam Tip ---\n",
    "tip_disp = extract_tip_displacement(V, uh, length, height)\n",
    "\n",
    "# --- Compute Theoretical Deflections (basic and corrected for plane strain) ---\n",
    "delta_th, delta_th_corrected = compute_theoretical_deflection(length, height, float(E), float(nu), rho, g)\n",
    "\n",
    "# --- Print Results and Errors ---\n",
    "print(f\"Numerical tip displacement: {tip_disp:.6e}\")  # FEM solution\n",
    "print(f\"Theoretical tip displacement: {delta_th:.6e}\")  # Basic theory\n",
    "print(f\"Theoretical tip displacement(corrected): {delta_th_corrected:.6e}\")  # Corrected theory\n",
    "print(f\"Relative error:           {abs(tip_disp - delta_th)/abs(delta_th):.2%}\")  # Error w.r.t basic theory\n",
    "print(f\"Relative error (corrected theory):           {abs(tip_disp - delta_th_corrected)/abs(delta_th_corrected):.2%}\")  # Error w.r.t corrected theory\n"
   ]
  },
  {
   "cell_type": "markdown",
   "metadata": {},
   "source": [
    "**Why ν = 0.5 Messes Up the Stiffness Matrix**\n",
    "\n",
    "In linear elasticity the global stiffness matrix $K$ is assembled from the bilinear form  \n",
    "$$\n",
    "a(u,v) = \\int_\\Omega \\bigl[\\lambda\\,\\mathrm{tr}(\\varepsilon(u))\\,\\mathrm{tr}(\\varepsilon(v))\n",
    "+ 2\\mu\\,\\varepsilon(u):\\varepsilon(v)\\bigr]\\,\\mathrm{d}\\Omega,\n",
    "$$  \n",
    "where the Lamé parameters are  \n",
    "$$\n",
    "\\mu = \\frac{E}{2(1 + \\nu)}, \n",
    "\\quad\n",
    "\\lambda = \\frac{E\\,\\nu}{(1 + \\nu)\\,(1 - 2\\nu)}.\n",
    "$$  \n",
    "When $\\nu = 0.5$, the denominator $(1 - 2\\nu)$ becomes zero, causing $\\lambda$ to approach infinity. As a result:\n",
    "\n",
    "- The volumetric stiffness term $\\lambda\\,\\mathrm{tr}(\\varepsilon)^2$ dominates, effectively “locking” the elements (basically makes it “infinitely hard” for the element to change its volume).  \n",
    "- When λ → ∞ , some parts of the global stiffness matrix K become extremely large or infinite. Numerically, that means K has nearly zero pivots (it’s almost singular) or even inconsistent signs, so you can’t invert or solve with it reliably.\n",
    "\n"
   ]
  }
 ],
 "metadata": {
  "kernelspec": {
   "display_name": "hw4-env",
   "language": "python",
   "name": "python3"
  },
  "language_info": {
   "codemirror_mode": {
    "name": "ipython",
    "version": 3
   },
   "file_extension": ".py",
   "mimetype": "text/x-python",
   "name": "python",
   "nbconvert_exporter": "python",
   "pygments_lexer": "ipython3",
   "version": "3.13.3"
  }
 },
 "nbformat": 4,
 "nbformat_minor": 2
}
