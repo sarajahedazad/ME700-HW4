{
 "cells": [
  {
   "cell_type": "markdown",
   "metadata": {},
   "source": [
    "**ME700: Part 1**  \n",
    "Pick a problem with a known analytical solution, implement it in Fenicsx and compare the results.\n"
   ]
  },
  {
   "cell_type": "markdown",
   "metadata": {},
   "source": [
    "Problem:\n",
    "I used the same problems as hw3 part A.\n",
    "\n",
    "A 2D rectangular beam is fixed at one end and a distributed force is applied to that beam. In small displacements, the deflection of the tip of the beam can be approximated analytically. Try to compare the analytic and numerical results.\n",
    "\n",
    "The paprameters are selected from [the 2D linear elasticity tutorial in Fenics](https://comet-fenics.readthedocs.io/en/latest/demo/elasticity/2D_elasticity.py.html). The FenicsX code itself was taken from [this Fenicsx linear elasticity tutorial](https://bleyerj.github.io/comet-fenicsx/intro/linear_elasticity/linear_elasticity.html) and altered. \n",
    "\n",
    "ChatGPT was used in help with alteration."
   ]
  },
  {
   "cell_type": "markdown",
   "metadata": {},
   "source": [
    "**Importing Modules**"
   ]
  },
  {
   "cell_type": "code",
   "execution_count": 1,
   "metadata": {},
   "outputs": [],
   "source": [
    "# importing modules\n",
    "import numpy as np\n",
    "from ufl import sym, grad, Identity, tr, inner, Measure, TestFunction, TrialFunction\n",
    "from mpi4py import MPI\n",
    "from dolfinx import fem, io\n",
    "import dolfinx.fem.petsc\n",
    "from dolfinx.mesh import create_rectangle, CellType"
   ]
  },
  {
   "cell_type": "markdown",
   "metadata": {},
   "source": [
    "**Definig the Mesh and Geometry**"
   ]
  },
  {
   "cell_type": "code",
   "execution_count": 2,
   "metadata": {},
   "outputs": [],
   "source": [
    "length, height = 25.0, 1.0\n",
    "Nx, Ny = 250, 10\n",
    "domain = create_rectangle(\n",
    "    MPI.COMM_WORLD,\n",
    "    [np.array([0, 0]), np.array([length, height])],\n",
    "    [Nx, Ny],\n",
    "    cell_type=CellType.quadrilateral,\n",
    ")"
   ]
  },
  {
   "cell_type": "markdown",
   "metadata": {},
   "source": [
    "**Function Space**"
   ]
  },
  {
   "cell_type": "code",
   "execution_count": 3,
   "metadata": {},
   "outputs": [],
   "source": [
    "dim = domain.topology.dim\n",
    "degree = 2\n",
    "shape = (dim,)\n",
    "V = fem.functionspace(domain, (\"P\", degree, shape))\n",
    "u_sol = fem.Function(V, name=\"Displacement\")"
   ]
  },
  {
   "cell_type": "markdown",
   "metadata": {},
   "source": [
    "**Material + load params**"
   ]
  },
  {
   "cell_type": "code",
   "execution_count": 4,
   "metadata": {},
   "outputs": [],
   "source": [
    "\n",
    "E_value = 1e5\n",
    "nu_value = 0.3\n",
    "rho = 2e-3\n",
    "g = 9.81\n",
    "\n",
    "E = fem.Constant(domain, E_value)\n",
    "nu = fem.Constant(domain, nu_value)\n",
    "lmbda = E * nu / (1 + nu) / (1 - 2 * nu)\n",
    "mu = E / 2 / (1 + nu)\n"
   ]
  },
  {
   "cell_type": "markdown",
   "metadata": {},
   "source": [
    "**Strain and Stress**"
   ]
  },
  {
   "cell_type": "code",
   "execution_count": 5,
   "metadata": {},
   "outputs": [],
   "source": [
    "def epsilon(v): return sym(grad(v))\n",
    "def sigma(v):  return lmbda * tr(epsilon(v)) * Identity(dim) + 2 * mu * epsilon(v)"
   ]
  },
  {
   "cell_type": "markdown",
   "metadata": {},
   "source": [
    "**Variational Forms**"
   ]
  },
  {
   "cell_type": "code",
   "execution_count": 6,
   "metadata": {},
   "outputs": [],
   "source": [
    "u = TrialFunction(V)\n",
    "v = TestFunction(V)\n",
    "f = fem.Constant(domain, np.array([0, -rho * g]))\n",
    "dx = Measure(\"dx\", domain=domain)\n",
    "a = inner(sigma(u), epsilon(v)) * dx\n",
    "L = inner(f, v) * dx"
   ]
  },
  {
   "cell_type": "markdown",
   "metadata": {},
   "source": [
    "**Boundary Conditions**"
   ]
  },
  {
   "cell_type": "code",
   "execution_count": 7,
   "metadata": {},
   "outputs": [],
   "source": [
    "left = lambda x: np.isclose(x[0], 0.0)\n",
    "left_dofs = fem.locate_dofs_geometrical(V, left)\n",
    "bcs = [fem.dirichletbc(np.zeros((2,)), left_dofs, V)]"
   ]
  },
  {
   "cell_type": "markdown",
   "metadata": {},
   "source": [
    "**Solve**"
   ]
  },
  {
   "cell_type": "code",
   "execution_count": 8,
   "metadata": {},
   "outputs": [],
   "source": [
    "problem = fem.petsc.LinearProblem(\n",
    "    a, L, u=u_sol, bcs=bcs,\n",
    "    petsc_options={\"ksp_type\": \"preonly\", \"pc_type\": \"lu\"}\n",
    ")\n",
    "uh = problem.solve()"
   ]
  },
  {
   "cell_type": "markdown",
   "metadata": {},
   "source": [
    "**Post Process**"
   ]
  },
  {
   "cell_type": "code",
   "execution_count": 9,
   "metadata": {},
   "outputs": [
    {
     "name": "stdout",
     "output_type": "stream",
     "text": [
      "Numerical tip displacement: -1.046164e-01\n",
      "Theoretical tip displacement: -1.149609e-01\n",
      "Theoretical tip displacement(corrected): -1.046145e-01\n",
      "Relative error:           9.00%\n",
      "Relative error (corrected theory):           0.00%\n"
     ]
    }
   ],
   "source": [
    "\n",
    "# --- Extract tip displacement at (L, h/2) ---\n",
    "V1, dof_map = V.sub(1).collapse()\n",
    "sub_tip = fem.locate_dofs_geometrical(\n",
    "    V1, lambda x: np.isclose(x[0], length) & np.isclose(x[1], height/2)\n",
    ")\n",
    "global_tip = dof_map[sub_tip[0]]\n",
    "tip_disp = uh.x.array[global_tip]\n",
    "\n",
    "# --- Theoretical deflection δ = (f_vol * h) * L^4 / (8 E I) ---\n",
    "f_vol = - rho * g\n",
    "I = height**4 / 12\n",
    "delta_th = float( (f_vol ) * length**4 / (8 * E * I) )\n",
    "E_effective = E_effective = E / ( 1 - nu ** 2 )\n",
    "delta_th_corrected = float( f_vol * length**4 / ( 8 * E_effective * I ) )\n",
    "\n",
    "\n",
    "if MPI.COMM_WORLD.rank == 0:\n",
    "    print(f\"Numerical tip displacement: {tip_disp:.6e}\")\n",
    "    print(f\"Theoretical tip displacement: {delta_th:.6e}\")\n",
    "    print(f\"Theoretical tip displacement(corrected): {delta_th_corrected:.6e}\")\n",
    "    print(f\"Relative error:           {abs(tip_disp - delta_th)/abs(delta_th):.2%}\")\n",
    "    print(f\"Relative error (corrected theory):           {abs(tip_disp - delta_th_corrected)/abs(delta_th_corrected):.2%}\")\n"
   ]
  }
 ],
 "metadata": {
  "kernelspec": {
   "display_name": "hw4-env",
   "language": "python",
   "name": "python3"
  },
  "language_info": {
   "codemirror_mode": {
    "name": "ipython",
    "version": 3
   },
   "file_extension": ".py",
   "mimetype": "text/x-python",
   "name": "python",
   "nbconvert_exporter": "python",
   "pygments_lexer": "ipython3",
   "version": "3.13.3"
  }
 },
 "nbformat": 4,
 "nbformat_minor": 2
}
